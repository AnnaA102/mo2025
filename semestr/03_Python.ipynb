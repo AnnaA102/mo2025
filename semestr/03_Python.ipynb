{
  "cells": [
    {
      "cell_type": "markdown",
      "id": "8f85e9d3",
      "metadata": {
        "id": "8f85e9d3"
      },
      "source": [
        "# 03 Ввод данных. input()"
      ]
    },
    {
      "cell_type": "markdown",
      "id": "cc58dfa3",
      "metadata": {
        "id": "cc58dfa3"
      },
      "source": [
        "Познакомимся с функцией input() - ввод. Это функция позволяет нам просить\n",
        "пользователя что-нибудь ввести или принять на ввод какие-то данные."
      ]
    },
    {
      "cell_type": "code",
      "execution_count": null,
      "id": "3698fa45",
      "metadata": {
        "scrolled": true,
        "id": "3698fa45"
      },
      "outputs": [],
      "source": [
        "x = input('Как вас зовут?')\n",
        "print(x)"
      ]
    },
    {
      "cell_type": "markdown",
      "id": "2e60102b",
      "metadata": {
        "id": "2e60102b"
      },
      "source": [
        "'Как вас зовут?' - аргумент функции input(), который будет отображаться в строке ввода. Он необязателен, но он может быть полезен для вас (особенно, если в задаче требуется ввести больше одной строки данных и нужно не запутаться).\n",
        "\n",
        "Обратите внимание, что функция  input() все сохраняет в строковом формате данных. Но мы можем сделать из\n",
        "числа-строки число-число с помощью функции int(). Введите \"1\" в обоих случаях и сравните результат."
      ]
    },
    {
      "cell_type": "code",
      "execution_count": 1,
      "id": "450ca3c0",
      "metadata": {
        "colab": {
          "base_uri": "https://localhost:8080/"
        },
        "id": "450ca3c0",
        "outputId": "24d46dcf-d89e-419d-f676-1715edc33d27"
      },
      "outputs": [
        {
          "output_type": "stream",
          "name": "stdout",
          "text": [
            "5\n",
            "<class 'str'>\n",
            "5\n",
            "<class 'int'>\n"
          ]
        }
      ],
      "source": [
        "print(type(input()))\n",
        "print(type(int(input())))"
      ]
    },
    {
      "cell_type": "markdown",
      "id": "d6194b8e",
      "metadata": {
        "id": "d6194b8e"
      },
      "source": [
        "Нужно следить за тем, какие данные вы считываете и менять их при необходимости. Сравните два примере ниже."
      ]
    },
    {
      "cell_type": "code",
      "execution_count": 102,
      "id": "0888dc6c",
      "metadata": {
        "colab": {
          "base_uri": "https://localhost:8080/"
        },
        "id": "0888dc6c",
        "outputId": "06c4ec2d-9048-4ea9-ef38-54007526bb57"
      },
      "outputs": [
        {
          "output_type": "stream",
          "name": "stdout",
          "text": [
            "Input x value: 1\n",
            "Input y value: 2\n",
            "12\n"
          ]
        }
      ],
      "source": [
        "x = input('Input x value: ')\n",
        "y = input('Input y value: ')\n",
        "print(x + y) # произошла склейка строк, по умолчанию input() сохраняет значение типа str"
      ]
    },
    {
      "cell_type": "code",
      "execution_count": 5,
      "id": "9a993185",
      "metadata": {
        "colab": {
          "base_uri": "https://localhost:8080/"
        },
        "id": "9a993185",
        "outputId": "327847ca-cfda-4bb2-ad64-182828e81a23"
      },
      "outputs": [
        {
          "output_type": "stream",
          "name": "stdout",
          "text": [
            "Input x value: 10\n",
            "Input y value: 12\n",
            "22\n"
          ]
        }
      ],
      "source": [
        "x = int(input('Input x value: '))\n",
        "y = int(input('Input y value: '))\n",
        "print(x + y) # вот теперь произошло сложение чисел"
      ]
    },
    {
      "cell_type": "markdown",
      "id": "2a001194",
      "metadata": {
        "id": "2a001194"
      },
      "source": [
        "## Задача 1. Pig Latin 1\n",
        "\n",
        "Pig Latin - вымышленный язык, который в конец каждого слова подставляет 'yay' (на самом деле оригинальные условия задачи несколько хитрее, но мы будем к ней возвращаться по ходу курса.\n",
        "\n",
        "**Формат ввода**  \n",
        "Пользователь вводит слова.\n",
        "\n",
        "**Формат вывода**\n",
        "Слово на Pig Latin.\n",
        "\n",
        "\n",
        "#### Примеры\n",
        "Тест 1  \n",
        "**Ввод:**  \n",
        "apple\n",
        "\n",
        "**Вывод:**  \n",
        "appleyay"
      ]
    },
    {
      "cell_type": "code",
      "execution_count": null,
      "id": "f3e532fa",
      "metadata": {
        "id": "f3e532fa"
      },
      "outputs": [],
      "source": [
        "word = input('Введите слово: ')\n",
        "print(word+'yay')"
      ]
    },
    {
      "cell_type": "markdown",
      "id": "ea45a103",
      "metadata": {
        "id": "ea45a103"
      },
      "source": [
        "## Задача 2. Как перевести градусы Цельсия в градусы Фаренгейта\n",
        "Чтобы при помощи Python перевести градусы Цельсия в градусы Фаренгейта (или наоборот), необходимо реализовать в коде следующие формулы:\n",
        "\n",
        "Градусы Цельсия в градусы Фаренгейта:\n",
        "F = 1.8 x C + 32\n",
        "\n",
        "Градусы Фаренгейта в градусы Цельсия:\n",
        "C = (F - 32) / 1.8"
      ]
    },
    {
      "cell_type": "code",
      "execution_count": 17,
      "id": "a8045be4",
      "metadata": {
        "colab": {
          "base_uri": "https://localhost:8080/"
        },
        "id": "a8045be4",
        "outputId": "35dcb7fe-a1d0-4658-a7da-347f60c12ad8"
      },
      "outputs": [
        {
          "output_type": "stream",
          "name": "stdout",
          "text": [
            "Give me a temperature in celcius: 37.777777778\n",
            "The temperature is  100.00000000040001  in fahrenheit\n"
          ]
        }
      ],
      "source": [
        "# Запросить пользовательский ввод (температуру в градусах Цельсия)\n",
        "c = float(input(\"Give me a temperature in celcius: \"))\n",
        "# Преобразовать значение, введенное пользователем, в градусы Фаренгейта\n",
        "f = 1.8 * c + 32\n",
        "# Вывести результат\n",
        "print(\"The temperature is \",f,\" in fahrenheit\")"
      ]
    },
    {
      "cell_type": "code",
      "execution_count": 100,
      "id": "aeea655a",
      "metadata": {
        "colab": {
          "base_uri": "https://localhost:8080/"
        },
        "id": "aeea655a",
        "outputId": "f7726dcb-42f7-4d71-b178-6ab323dd8645"
      },
      "outputs": [
        {
          "output_type": "stream",
          "name": "stdout",
          "text": [
            "Give me a temperature in fahrenheit: 1\n",
            "The temperature is  -17.22222222222222  in celcius\n"
          ]
        }
      ],
      "source": [
        "# Здесь напишите программу для преобразования градусов Фаренгейта в градусы Цельсия\n",
        "# Запросить пользовательский ввод (температуру в градусах Фаренгейта)\n",
        "F = float(input(\"Give me a temperature in fahrenheit: \"))\n",
        "# Преобразовать значение, введенное пользователем, в градусы Цельсия\n",
        "C = (F - 32) / 1.8\n",
        "# Вывести результат\n",
        "print(\"The temperature is \",C,\" in celcius\")"
      ]
    },
    {
      "cell_type": "markdown",
      "id": "8f28db59",
      "metadata": {
        "id": "8f28db59"
      },
      "source": [
        "## Импорт модулей\n",
        "По мере количества строк вашего кода будет не лишним начинать пользоваться модулями.\n",
        "\n",
        "Модуль — это файл, содержащий функции и операторы. У всех модулей в Python есть имя, которое заканчивается расширением .py.\n",
        "\n",
        "Операторы внутри модуля могут быть импортированы в другой модуль или в интерпретатор Python. Для этого мы используем ключевое слово import.\n",
        "\n",
        "Например, мы можем импортировать модуль math. Делается это следующим образом:\n",
        "\n",
        "`import math`"
      ]
    },
    {
      "cell_type": "code",
      "execution_count": 18,
      "id": "abba2114",
      "metadata": {
        "colab": {
          "base_uri": "https://localhost:8080/"
        },
        "id": "abba2114",
        "outputId": "a72b10b0-d6ce-4fd0-c107-ca84c822bcdc"
      },
      "outputs": [
        {
          "output_type": "stream",
          "name": "stdout",
          "text": [
            "3.141592653589793\n"
          ]
        }
      ],
      "source": [
        "import math\n",
        "print(math.pi)"
      ]
    },
    {
      "cell_type": "markdown",
      "id": "0a0506bf",
      "metadata": {
        "id": "0a0506bf"
      },
      "source": [
        "## Модуль random\n",
        "Модуль random позволяет генерировать случайные числа. Прежде чем использовать модуль, необходимо подключить его\n",
        "\n",
        "`import random`"
      ]
    },
    {
      "cell_type": "markdown",
      "id": "cf95f26e",
      "metadata": {
        "id": "cf95f26e"
      },
      "source": [
        "## randint\n",
        "\n",
        "Функция randint(a, b) получает на вход два целых числа и возвращает случайное значение из диапазона [a,b]    (a и b входят в этот диапазон).\n"
      ]
    },
    {
      "cell_type": "code",
      "execution_count": 25,
      "id": "15d2a919",
      "metadata": {
        "colab": {
          "base_uri": "https://localhost:8080/"
        },
        "id": "15d2a919",
        "outputId": "04a5e8ca-b473-473b-db6c-851171e05923"
      },
      "outputs": [
        {
          "output_type": "stream",
          "name": "stdout",
          "text": [
            "86\n"
          ]
        }
      ],
      "source": [
        "import random\n",
        "\n",
        "random_number = random.randint(0, 125)\n",
        "print(random_number)"
      ]
    },
    {
      "cell_type": "markdown",
      "id": "984611ba",
      "metadata": {
        "id": "984611ba"
      },
      "source": [
        "## randrange\n",
        "\n",
        "В функцию randrange(start, stop[, step]) передают три целых числа:\n",
        "\n",
        "start\n",
        " – начало диапазона (входит в последовательность);\n",
        "\n",
        "stop\n",
        " – конец диапазона (в последовательность не входит);\n",
        "\n",
        "step\n",
        " – шаг генерации (если на его месте написать 0, получим ошибку \"ValueError\").\n",
        "\n",
        "На выходе функция выдает случайное число в заданном диапазоне"
      ]
    },
    {
      "cell_type": "code",
      "execution_count": 88,
      "id": "903cde2b",
      "metadata": {
        "colab": {
          "base_uri": "https://localhost:8080/"
        },
        "id": "903cde2b",
        "outputId": "36448afd-bbfd-42b0-d276-c81e5673315c"
      },
      "outputs": [
        {
          "output_type": "stream",
          "name": "stdout",
          "text": [
            "101\n"
          ]
        }
      ],
      "source": [
        "import random\n",
        "\n",
        "random_number = random.randrange(1, 100, 10)\n",
        "print(random_number)"
      ]
    },
    {
      "cell_type": "markdown",
      "id": "9c2e9ce0",
      "metadata": {
        "id": "9c2e9ce0"
      },
      "source": [
        "## random\n",
        "\n",
        "Функция  random()  выдает вещественные числа, в диапазоне [0.0, 1.0)\n",
        "\n",
        " (включая 0.0, но не включая 1.0)."
      ]
    },
    {
      "cell_type": "code",
      "execution_count": 90,
      "id": "2b716608",
      "metadata": {
        "colab": {
          "base_uri": "https://localhost:8080/"
        },
        "id": "2b716608",
        "outputId": "de1934b3-dab2-482a-a96d-8b9cfe1b7bde"
      },
      "outputs": [
        {
          "output_type": "stream",
          "name": "stdout",
          "text": [
            "0.513660821158472\n"
          ]
        }
      ],
      "source": [
        "import random\n",
        "\n",
        "random_number = random.random()\n",
        "print(random_number)"
      ]
    },
    {
      "cell_type": "markdown",
      "id": "8d4f5f10",
      "metadata": {
        "id": "8d4f5f10"
      },
      "source": [
        "## Задача 3. Как перевести случайные градусы Цельсия в градусы Фаренгейта.\n",
        "\n",
        "Сделайте снова перевод градусов Цельсия в Фаренгейт, только теперь не запрашивайте градусы с клавиатуры, а сгенерируйте случайно в диапазоне [-50, 42]"
      ]
    },
    {
      "cell_type": "code",
      "execution_count": 99,
      "id": "39f06ca3",
      "metadata": {
        "colab": {
          "base_uri": "https://localhost:8080/"
        },
        "id": "39f06ca3",
        "outputId": "355199c5-d814-4583-b362-40920fac9bdc"
      },
      "outputs": [
        {
          "output_type": "stream",
          "name": "stdout",
          "text": [
            "The temperature is  31  in celcius\n",
            "The temperature is  87.80000000000001  in fahrenheit\n"
          ]
        }
      ],
      "source": [
        "# Запросить пользовательский ввод (температуру в градусах Цельсия)\n",
        "import random\n",
        "c = random.randint(-50, 42)\n",
        "print(\"The temperature is \",c,\" in celcius\")\n",
        "# Преобразовать значение, введенное пользователем, в градусы Фаренгейта\n",
        "f = 1.8 * c + 32\n",
        "# Вывести результат\n",
        "print(\"The temperature is \",f,\" in fahrenheit\")"
      ]
    },
    {
      "cell_type": "markdown",
      "id": "06be6026",
      "metadata": {
        "id": "06be6026"
      },
      "source": [
        "# Задание 1\n",
        "\n",
        "Карандаш стоит X рублей за штуку. Покупатель дал кассиру Y рублей и хочет купить 8 карандашей. Какую сдачу он должен получить? Ответ дайте в рублях. (X и Y запросить у пользователя)\n"
      ]
    },
    {
      "cell_type": "code",
      "execution_count": 111,
      "id": "287d09ee",
      "metadata": {
        "id": "287d09ee",
        "colab": {
          "base_uri": "https://localhost:8080/"
        },
        "outputId": "fab5713c-3176-4160-a8db-e312f22c8ce5"
      },
      "outputs": [
        {
          "output_type": "stream",
          "name": "stdout",
          "text": [
            "Введите стоимость карандаша: 18.45\n",
            "Введите количество денег: 500\n",
            "сдача 352.4\n"
          ]
        }
      ],
      "source": [
        "x = float(input('Введите стоимость карандаша: '))\n",
        "y = float(input('Введите количество денег: '))\n",
        "print(\"сдача\",y-(8*x))"
      ]
    },
    {
      "cell_type": "markdown",
      "id": "fbba2f6b",
      "metadata": {
        "id": "fbba2f6b"
      },
      "source": [
        "# Задание 3\n",
        "\n",
        "Ребенок в день съедает X творожка. Творожок продается в упаковках по Y штук. Какое наименьшее число упаковок надо купить, чтобы ребенку хватило на две недели?  (X и Y запросить у пользователя)"
      ]
    },
    {
      "cell_type": "code",
      "execution_count": 107,
      "id": "b6861407",
      "metadata": {
        "id": "b6861407",
        "colab": {
          "base_uri": "https://localhost:8080/"
        },
        "outputId": "d32c6cc5-9b10-4629-88c3-28ac8e491ee4"
      },
      "outputs": [
        {
          "output_type": "stream",
          "name": "stdout",
          "text": [
            "Введите количество съеденных в день творожков: 2\n",
            "Введите количество штук в упаковке: 5\n",
            "6\n"
          ]
        }
      ],
      "source": [
        "x = int(input('Введите количество съеденных в день творожков: '))\n",
        "y = int(input('Введите количество штук в упаковке: '))\n",
        "import math\n",
        "print(math.ceil((14*x)/y))"
      ]
    },
    {
      "cell_type": "markdown",
      "id": "259d0e60",
      "metadata": {
        "id": "259d0e60"
      },
      "source": [
        "# Задание 4\n",
        "\n",
        "Килограмм картошки стоит Х рублей. У Олега есть 1000 р, из этой суммы он 640 р должен положить на телефон, а на остальные деньги он купил картошку. Сколько килограмм купил Олег, если он получил сдачу Y рублей?\n",
        " (X и Y запросить у пользователя)"
      ]
    },
    {
      "cell_type": "code",
      "execution_count": 114,
      "id": "8f9fa034",
      "metadata": {
        "id": "8f9fa034",
        "colab": {
          "base_uri": "https://localhost:8080/"
        },
        "outputId": "4c2ac65a-d1fd-4551-a6d7-43fa2031cb8a"
      },
      "outputs": [
        {
          "output_type": "stream",
          "name": "stdout",
          "text": [
            "Введите стоимость килограмма картошки: 10\n",
            "Введите сдачу: 1\n",
            "35.9\n"
          ]
        }
      ],
      "source": [
        "x = float(input('Введите стоимость килограмма картошки: '))\n",
        "y = float(input('Введите сдачу: '))\n",
        "money=1000\n",
        "phone_price=640\n",
        "print((money-(phone_price+y))/x)"
      ]
    }
  ],
  "metadata": {
    "kernelspec": {
      "display_name": "Python 3 (ipykernel)",
      "language": "python",
      "name": "python3"
    },
    "language_info": {
      "codemirror_mode": {
        "name": "ipython",
        "version": 3
      },
      "file_extension": ".py",
      "mimetype": "text/x-python",
      "name": "python",
      "nbconvert_exporter": "python",
      "pygments_lexer": "ipython3",
      "version": "3.9.13"
    },
    "colab": {
      "provenance": []
    }
  },
  "nbformat": 4,
  "nbformat_minor": 5
}