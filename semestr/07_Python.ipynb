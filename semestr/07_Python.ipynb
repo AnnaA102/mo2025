{
  "cells": [
    {
      "cell_type": "markdown",
      "id": "03e811ea",
      "metadata": {
        "id": "03e811ea"
      },
      "source": [
        "# 07 Словарь (Dictionaries)\n",
        "\n",
        "Если раньше мы говорили о последовательностях (*sequences*) в Python, то теперь давайте поговорим о маппингах (*mappings*) в Python. Если Вы знакомы с другими языками программирования, то словари можно представить себе как хэш-таблицы.\n",
        "\n",
        "Эта лекция служит введением в словари, и состоит из следующих тем:\n",
        "\n",
        "    1) Создание словаря\n",
        "    2) Доступ к объектам в словаре\n",
        "    3) Вложенные словари\n",
        "    4) Основные методы для словарей\n",
        "\n",
        "Что такое маппинги? Маппинги - это набор объектов, которые можно получить по ключу (*key*). Это отличается от последовательностей, где объекты хранятся в определенном порядке относительно друг друга. Это важное отличие, потому что маппинги не имеют порядка элементов. В маппингах элементы определены с помощью ключей.\n",
        "\n",
        "Словарь в Python состоит из ключа и связанного с ним значения. Значение может быть практически любым объектом Python.\n",
        "\n",
        "\n",
        "## Создание словаря\n",
        "Давайте посмотрим, как можно создавать словари - так мы лучше поймём, как они работают!"
      ]
    },
    {
      "cell_type": "code",
      "execution_count": 5,
      "id": "bb41161f",
      "metadata": {
        "collapsed": true,
        "id": "bb41161f"
      },
      "outputs": [],
      "source": [
        "# Словари создаются с помощью {} и : , чтобы указать ключи и значения\n",
        "my_dict = {'key1':'value1','key2':'value2'}"
      ]
    },
    {
      "cell_type": "code",
      "execution_count": null,
      "id": "83c411da",
      "metadata": {
        "id": "83c411da",
        "outputId": "82af1ad4-dee3-4161-9cce-9abedad1d34c"
      },
      "outputs": [
        {
          "data": {
            "text/plain": [
              "'value2'"
            ]
          },
          "execution_count": 2,
          "metadata": {},
          "output_type": "execute_result"
        }
      ],
      "source": [
        "# Получаем значение по его ключу\n",
        "my_dict['key2']"
      ]
    },
    {
      "cell_type": "markdown",
      "id": "2fba962f",
      "metadata": {
        "id": "2fba962f"
      },
      "source": [
        "Словари очень гибки в отношении того, какие типы данных они могут хранить. Например:"
      ]
    },
    {
      "cell_type": "code",
      "execution_count": null,
      "id": "b04d925e",
      "metadata": {
        "collapsed": true,
        "id": "b04d925e"
      },
      "outputs": [],
      "source": [
        "my_dict = {'key1':123,'key2':[12,23,33],'key3':['item0','item1','item2']}"
      ]
    },
    {
      "cell_type": "code",
      "execution_count": null,
      "id": "e6dca033",
      "metadata": {
        "id": "e6dca033",
        "outputId": "1aeb65bf-47be-4b72-c96a-ff6da66ca612"
      },
      "outputs": [
        {
          "data": {
            "text/plain": [
              "['item0', 'item1', 'item2']"
            ]
          },
          "execution_count": 4,
          "metadata": {},
          "output_type": "execute_result"
        }
      ],
      "source": [
        "# Возьмём из словаря элементы items\n",
        "my_dict['key3']"
      ]
    },
    {
      "cell_type": "code",
      "execution_count": null,
      "id": "e7af6103",
      "metadata": {
        "id": "e7af6103",
        "outputId": "e87b7aab-23a0-4783-e429-1c7aa2b111d6"
      },
      "outputs": [
        {
          "data": {
            "text/plain": [
              "'item0'"
            ]
          },
          "execution_count": 5,
          "metadata": {},
          "output_type": "execute_result"
        }
      ],
      "source": [
        "# Здесь можно использовать индекс для этого значения\n",
        "my_dict['key3'][0]"
      ]
    },
    {
      "cell_type": "code",
      "execution_count": null,
      "id": "a600ae1a",
      "metadata": {
        "id": "a600ae1a",
        "outputId": "96b2d609-707d-4690-d8cd-be0981491026"
      },
      "outputs": [
        {
          "data": {
            "text/plain": [
              "'ITEM0'"
            ]
          },
          "execution_count": 6,
          "metadata": {},
          "output_type": "execute_result"
        }
      ],
      "source": [
        "# И далее мы даже можем использовать методы для этого значения\n",
        "my_dict['key3'][0].upper()"
      ]
    },
    {
      "cell_type": "markdown",
      "id": "ef58627b",
      "metadata": {
        "id": "ef58627b"
      },
      "source": [
        "Также мы можем менять значения ключа. Например:"
      ]
    },
    {
      "cell_type": "code",
      "execution_count": 6,
      "id": "956e9545",
      "metadata": {
        "colab": {
          "base_uri": "https://localhost:8080/",
          "height": 35
        },
        "id": "956e9545",
        "outputId": "3b58a47b-1b08-4614-c35b-119ceec521e5"
      },
      "outputs": [
        {
          "output_type": "execute_result",
          "data": {
            "text/plain": [
              "'value1'"
            ],
            "application/vnd.google.colaboratory.intrinsic+json": {
              "type": "string"
            }
          },
          "metadata": {},
          "execution_count": 6
        }
      ],
      "source": [
        "my_dict['key1']"
      ]
    },
    {
      "cell_type": "code",
      "execution_count": 9,
      "id": "55d243f5",
      "metadata": {
        "collapsed": true,
        "colab": {
          "base_uri": "https://localhost:8080/",
          "height": 156
        },
        "id": "55d243f5",
        "outputId": "817e3147-479a-4718-f692-2920349a3872"
      },
      "outputs": [
        {
          "output_type": "error",
          "ename": "TypeError",
          "evalue": "unsupported operand type(s) for -: 'str' and 'int'",
          "traceback": [
            "\u001b[0;31m---------------------------------------------------------------------------\u001b[0m",
            "\u001b[0;31mTypeError\u001b[0m                                 Traceback (most recent call last)",
            "\u001b[0;32m<ipython-input-9-7c74227bbe5b>\u001b[0m in \u001b[0;36m<cell line: 0>\u001b[0;34m()\u001b[0m\n\u001b[1;32m      1\u001b[0m \u001b[0;31m# Вычитаем 123 из значения\u001b[0m\u001b[0;34m\u001b[0m\u001b[0;34m\u001b[0m\u001b[0m\n\u001b[0;32m----> 2\u001b[0;31m \u001b[0mmy_dict\u001b[0m\u001b[0;34m[\u001b[0m\u001b[0;34m'key1'\u001b[0m\u001b[0;34m]\u001b[0m \u001b[0;34m=\u001b[0m \u001b[0mmy_dict\u001b[0m\u001b[0;34m[\u001b[0m\u001b[0;34m'key1'\u001b[0m\u001b[0;34m]\u001b[0m \u001b[0;34m-\u001b[0m \u001b[0;36m123\u001b[0m\u001b[0;34m\u001b[0m\u001b[0;34m\u001b[0m\u001b[0m\n\u001b[0m",
            "\u001b[0;31mTypeError\u001b[0m: unsupported operand type(s) for -: 'str' and 'int'"
          ]
        }
      ],
      "source": [
        "# Вычитаем 123 из значения\n",
        "my_dict['key1'] = my_dict['key1'] - 123"
      ]
    },
    {
      "cell_type": "code",
      "execution_count": 10,
      "id": "638d05f0",
      "metadata": {
        "colab": {
          "base_uri": "https://localhost:8080/",
          "height": 35
        },
        "id": "638d05f0",
        "outputId": "be8fd6ec-33a1-49df-ce91-ec8e2f2f6344"
      },
      "outputs": [
        {
          "output_type": "execute_result",
          "data": {
            "text/plain": [
              "'value1'"
            ],
            "application/vnd.google.colaboratory.intrinsic+json": {
              "type": "string"
            }
          },
          "metadata": {},
          "execution_count": 10
        }
      ],
      "source": [
        "# Провека\n",
        "my_dict['key1']"
      ]
    },
    {
      "cell_type": "markdown",
      "id": "2c1135c9",
      "metadata": {
        "id": "2c1135c9"
      },
      "source": [
        "Небольшое замечание: Python содержит встроенные методы для сложения (прибавления), вычитания, умножения и деления. В примере выше можно было использовать += или -=. Например:"
      ]
    },
    {
      "cell_type": "code",
      "execution_count": null,
      "id": "4e219c58",
      "metadata": {
        "id": "4e219c58",
        "outputId": "f6dabd0c-bb93-40f1-9174-304b6a5557e1"
      },
      "outputs": [
        {
          "data": {
            "text/plain": [
              "-123"
            ]
          },
          "execution_count": 10,
          "metadata": {},
          "output_type": "execute_result"
        }
      ],
      "source": [
        "# Присвоить объект равным его текущему значению минус 123\n",
        "my_dict['key1'] -= 123\n",
        "my_dict['key1']"
      ]
    },
    {
      "cell_type": "markdown",
      "id": "238ecec7",
      "metadata": {
        "id": "238ecec7"
      },
      "source": [
        "Мы также можем создавать ключи, присваивая значения. Например, мы можем создать пустой словарь, и затем постепенно добавлять в него элементы:"
      ]
    },
    {
      "cell_type": "code",
      "execution_count": null,
      "id": "0632b469",
      "metadata": {
        "collapsed": true,
        "id": "0632b469"
      },
      "outputs": [],
      "source": [
        "# Создаем новый словарь\n",
        "d = {}"
      ]
    },
    {
      "cell_type": "code",
      "execution_count": null,
      "id": "66b2dc37",
      "metadata": {
        "collapsed": true,
        "id": "66b2dc37"
      },
      "outputs": [],
      "source": [
        "# Создаем новый ключ, присваивая ему значение\n",
        "d['animal'] = 'Dog'"
      ]
    },
    {
      "cell_type": "code",
      "execution_count": null,
      "id": "968b7cab",
      "metadata": {
        "collapsed": true,
        "id": "968b7cab"
      },
      "outputs": [],
      "source": [
        "# Мы можем сделать это для любого объекта\n",
        "d['answer'] = 42"
      ]
    },
    {
      "cell_type": "code",
      "execution_count": null,
      "id": "0c0c636a",
      "metadata": {
        "id": "0c0c636a",
        "outputId": "79dd0530-dc8a-4c8e-a5c3-5c83e4c12cc5"
      },
      "outputs": [
        {
          "data": {
            "text/plain": [
              "{'animal': 'Dog', 'answer': 42}"
            ]
          },
          "execution_count": 14,
          "metadata": {},
          "output_type": "execute_result"
        }
      ],
      "source": [
        "# Проверка\n",
        "d"
      ]
    },
    {
      "cell_type": "markdown",
      "id": "899e1e49",
      "metadata": {
        "id": "899e1e49"
      },
      "source": [
        "## Вложенные словари\n",
        "\n",
        "Надеюсь, что Вы уже начинаете видеть, насколько Python мощный и гибкий в плане вложенности объектов и запуска методов. Давайте рассмотрим словарь внутри словаря:"
      ]
    },
    {
      "cell_type": "code",
      "execution_count": 25,
      "id": "1c06c237",
      "metadata": {
        "collapsed": true,
        "id": "1c06c237"
      },
      "outputs": [],
      "source": [
        "# Словарь внутри словаря внутри словаря\n",
        "d = {'key1':{'nestkey':{'subnestkey':'value'}}}"
      ]
    },
    {
      "cell_type": "markdown",
      "id": "6173a0ff",
      "metadata": {
        "id": "6173a0ff"
      },
      "source": [
        "Вау! Вот это вложенность словарей! Давайте посмотрим, как добраться до значения 'value':"
      ]
    },
    {
      "cell_type": "code",
      "execution_count": 26,
      "id": "55f9c854",
      "metadata": {
        "colab": {
          "base_uri": "https://localhost:8080/",
          "height": 35
        },
        "id": "55f9c854",
        "outputId": "0bd0056c-fb1e-4381-af9a-fd078632d679"
      },
      "outputs": [
        {
          "output_type": "execute_result",
          "data": {
            "text/plain": [
              "'value'"
            ],
            "application/vnd.google.colaboratory.intrinsic+json": {
              "type": "string"
            }
          },
          "metadata": {},
          "execution_count": 26
        }
      ],
      "source": [
        "# Последовательно указываем ключи\n",
        "d['key1']['nestkey']['subnestkey']"
      ]
    },
    {
      "cell_type": "markdown",
      "id": "32ae4843",
      "metadata": {
        "id": "32ae4843"
      },
      "source": [
        "## Некоторые методы для словарей\n",
        "\n",
        "Для словарей можно вызывать различные методы. Вот некоторые из них:"
      ]
    },
    {
      "cell_type": "code",
      "execution_count": 12,
      "id": "63e0d911",
      "metadata": {
        "collapsed": true,
        "id": "63e0d911"
      },
      "outputs": [],
      "source": [
        "# Создаем обычный словарь\n",
        "d = {'key1':1,'key2':2,'key3':3}"
      ]
    },
    {
      "cell_type": "code",
      "execution_count": 13,
      "id": "fa98d666",
      "metadata": {
        "colab": {
          "base_uri": "https://localhost:8080/"
        },
        "id": "fa98d666",
        "outputId": "b46be6e9-037e-46bc-cd9e-0a12b432aec1"
      },
      "outputs": [
        {
          "output_type": "execute_result",
          "data": {
            "text/plain": [
              "dict_keys(['key1', 'key2', 'key3'])"
            ]
          },
          "metadata": {},
          "execution_count": 13
        }
      ],
      "source": [
        "# Метод, который возвращает список всех ключей\n",
        "d.keys()"
      ]
    },
    {
      "cell_type": "code",
      "execution_count": 15,
      "id": "762ebc8d",
      "metadata": {
        "colab": {
          "base_uri": "https://localhost:8080/"
        },
        "id": "762ebc8d",
        "outputId": "87c9fca8-feb9-4507-91eb-ad7aad1c0554"
      },
      "outputs": [
        {
          "output_type": "execute_result",
          "data": {
            "text/plain": [
              "dict_values([1, 2, 3])"
            ]
          },
          "metadata": {},
          "execution_count": 15
        }
      ],
      "source": [
        "# Метод, возвращающий все значения\n",
        "d.values()"
      ]
    },
    {
      "cell_type": "code",
      "execution_count": 20,
      "id": "8f3f1311",
      "metadata": {
        "scrolled": true,
        "colab": {
          "base_uri": "https://localhost:8080/"
        },
        "id": "8f3f1311",
        "outputId": "f26aedb5-6515-48d8-cca7-df18aaafa2b6"
      },
      "outputs": [
        {
          "output_type": "execute_result",
          "data": {
            "text/plain": [
              "dict_items([('simple_key', 'hello')])"
            ]
          },
          "metadata": {},
          "execution_count": 20
        }
      ],
      "source": [
        "# Метод, возвращающий кортежи (tuples) для всех элементов  (мы рассмотрим кортежи tuples чуть позже)\n",
        "d.items()"
      ]
    },
    {
      "cell_type": "markdown",
      "id": "06421a3a",
      "metadata": {
        "id": "06421a3a"
      },
      "source": [
        "Теперь Вы знаете, как создавать словари. По ним ещё есть что сказать, и мы вернемся к словарям позднее в этом курсе. После этой лекции главное, что Вы должны уметь, это создавать словари и извлекать значения из них."
      ]
    },
    {
      "cell_type": "code",
      "execution_count": null,
      "id": "83681fae",
      "metadata": {
        "id": "83681fae"
      },
      "outputs": [],
      "source": []
    },
    {
      "cell_type": "markdown",
      "id": "9816ea42",
      "metadata": {
        "id": "9816ea42"
      },
      "source": [
        "## Словари (Dictionaries)"
      ]
    },
    {
      "cell_type": "markdown",
      "id": "63689704",
      "metadata": {
        "id": "63689704"
      },
      "source": [
        "Используя ключи и индексирование, прочитайте 'hello' из следующих словарей:"
      ]
    },
    {
      "cell_type": "code",
      "execution_count": 18,
      "id": "2b1a4e5c",
      "metadata": {
        "collapsed": true,
        "colab": {
          "base_uri": "https://localhost:8080/"
        },
        "id": "2b1a4e5c",
        "outputId": "343196a1-62fc-4b24-aa0c-7fdd12d90d33"
      },
      "outputs": [
        {
          "output_type": "stream",
          "name": "stdout",
          "text": [
            "hello\n"
          ]
        }
      ],
      "source": [
        "d = {'simple_key':'hello'}\n",
        "# прочитайте 'hello'\n",
        "\n",
        "print(d ['simple_key'])"
      ]
    },
    {
      "cell_type": "code",
      "execution_count": 27,
      "id": "d9dd6531",
      "metadata": {
        "collapsed": true,
        "colab": {
          "base_uri": "https://localhost:8080/"
        },
        "id": "d9dd6531",
        "outputId": "6acace82-8ab6-4e3c-d154-2780dc47155d"
      },
      "outputs": [
        {
          "output_type": "stream",
          "name": "stdout",
          "text": [
            "hello\n"
          ]
        }
      ],
      "source": [
        "d = {'k1':{'k2':'hello'}}\n",
        "# прочитайте 'hello'\n",
        "\n",
        "print(d [\"k1\"][\"k2\"])"
      ]
    },
    {
      "cell_type": "code",
      "execution_count": 38,
      "id": "f670b274",
      "metadata": {
        "collapsed": true,
        "colab": {
          "base_uri": "https://localhost:8080/"
        },
        "id": "f670b274",
        "outputId": "91789c17-b192-415e-b94f-be7aa28ce152"
      },
      "outputs": [
        {
          "output_type": "stream",
          "name": "stdout",
          "text": [
            "hello\n"
          ]
        }
      ],
      "source": [
        "# Здесь немного сложнее\n",
        "d = {'k1':[{'nest_key':['this is deep',['hello']]}]}\n",
        "\n",
        "# прочитайте hello\n",
        "\n",
        "z = d [\"k1\"]\n",
        "k = z[0]\n",
        "\n",
        "i = k[\"nest_key\"]\n",
        "\n",
        "b = i[1]\n",
        "\n",
        "n = b[0]\n",
        "print(n)"
      ]
    },
    {
      "cell_type": "code",
      "execution_count": 49,
      "id": "84521255",
      "metadata": {
        "collapsed": true,
        "colab": {
          "base_uri": "https://localhost:8080/"
        },
        "id": "84521255",
        "outputId": "388c98ac-5cb7-4127-fb8c-fcbaa47ffd2c"
      },
      "outputs": [
        {
          "output_type": "stream",
          "name": "stdout",
          "text": [
            "hello\n"
          ]
        }
      ],
      "source": [
        "# Это будет сложно и нудно!\n",
        "d = {'k1':[1,2,{'k2':['this is tricky',{'tough':[1,2,['hello']]}]}]}\n",
        "m = d[\"k1\"]\n",
        "\n",
        "v = m[2]\n",
        "\n",
        "nup = v[\"k2\"]\n",
        "\n",
        "vuf = nup[1]\n",
        "\n",
        "xi = vuf [\"tough\"]\n",
        "\n",
        "wuf = xi [2]\n",
        "\n",
        "din = wuf[0]\n",
        "print(din)"
      ]
    },
    {
      "cell_type": "markdown",
      "id": "36299e7a",
      "metadata": {
        "id": "36299e7a"
      },
      "source": [
        "Можно ли отсортировать словарь? Почему (или почему нет)?<br><br>"
      ]
    }
  ],
  "metadata": {
    "kernelspec": {
      "display_name": "Python 3 (ipykernel)",
      "language": "python",
      "name": "python3"
    },
    "language_info": {
      "codemirror_mode": {
        "name": "ipython",
        "version": 3
      },
      "file_extension": ".py",
      "mimetype": "text/x-python",
      "name": "python",
      "nbconvert_exporter": "python",
      "pygments_lexer": "ipython3",
      "version": "3.9.13"
    },
    "colab": {
      "provenance": []
    }
  },
  "nbformat": 4,
  "nbformat_minor": 5
}