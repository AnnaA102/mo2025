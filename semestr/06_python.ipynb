{
  "cells": [
    {
      "cell_type": "markdown",
      "id": "3402ff55",
      "metadata": {
        "id": "3402ff55"
      },
      "source": [
        "# 06 Списки (Lists)\n",
        "\n",
        "Списки - это наиболее общая версия последовательностей в Python. В отличие от строк, списки можно менять - элементы внутри списка можно менять!\n",
        "\n",
        "Мы изучим следующие темы:\n",
        "    \n",
        "    1) Создание списков\n",
        "    2) Индексирование списков и разбиение их на части\n",
        "    3) Основные методы для списков\n",
        "    4) Вложенные списки\n",
        "    5) Введение в генераторы списков (List Comprehensions)\n",
        "\n",
        "Списки создаются с помощью скобок [ ], элементы списка отделяются друг от друга запятыми.\n",
        "\n",
        "Давайте посмотрим, как можно создавать списки!"
      ]
    },
    {
      "cell_type": "code",
      "execution_count": null,
      "id": "280aa4eb",
      "metadata": {
        "id": "280aa4eb"
      },
      "outputs": [],
      "source": [
        "# Присвоить переменной my_list список\n",
        "my_list = [1,2,3]"
      ]
    },
    {
      "cell_type": "markdown",
      "id": "6ec8e2d7",
      "metadata": {
        "id": "6ec8e2d7"
      },
      "source": [
        "Мы создали список целых чисел, но на самом деле списки могут содержать элементы разных типов. Например:"
      ]
    },
    {
      "cell_type": "code",
      "execution_count": null,
      "id": "80960b76",
      "metadata": {
        "id": "80960b76"
      },
      "outputs": [],
      "source": [
        "my_list = ['A string',23,100.232,'o']"
      ]
    },
    {
      "cell_type": "markdown",
      "id": "d07f74bc",
      "metadata": {
        "id": "d07f74bc"
      },
      "source": [
        "Как и для строк, узнать количество элементов в списке можно с помощью функции len()."
      ]
    },
    {
      "cell_type": "code",
      "execution_count": null,
      "id": "40eef44e",
      "metadata": {
        "colab": {
          "base_uri": "https://localhost:8080/"
        },
        "id": "40eef44e",
        "outputId": "7ef4636c-c570-4c92-bd99-8133a95d1e71"
      },
      "outputs": [
        {
          "output_type": "execute_result",
          "data": {
            "text/plain": [
              "4"
            ]
          },
          "metadata": {},
          "execution_count": 6
        }
      ],
      "source": [
        "len(my_list)"
      ]
    },
    {
      "cell_type": "markdown",
      "id": "0da47673",
      "metadata": {
        "id": "0da47673"
      },
      "source": [
        "### Индексирование и разбиение на части\n",
        "Индексирование и разбиение на части работает точно так же, как и для строк. Давайте создадим новый список и напомним себе, как это работает:"
      ]
    },
    {
      "cell_type": "code",
      "execution_count": null,
      "id": "61c4ac37",
      "metadata": {
        "id": "61c4ac37"
      },
      "outputs": [],
      "source": [
        "my_list = ['one','two','three',4,5]"
      ]
    },
    {
      "cell_type": "code",
      "execution_count": null,
      "id": "2b689dea",
      "metadata": {
        "colab": {
          "base_uri": "https://localhost:8080/",
          "height": 35
        },
        "id": "2b689dea",
        "outputId": "39921b3d-2d72-4a10-cd52-871566e09ad8"
      },
      "outputs": [
        {
          "output_type": "execute_result",
          "data": {
            "text/plain": [
              "'one'"
            ],
            "application/vnd.google.colaboratory.intrinsic+json": {
              "type": "string"
            }
          },
          "metadata": {},
          "execution_count": 8
        }
      ],
      "source": [
        "# Берём элемент на позиции 0\n",
        "my_list[0]"
      ]
    },
    {
      "cell_type": "code",
      "execution_count": null,
      "id": "4ec9950b",
      "metadata": {
        "colab": {
          "base_uri": "https://localhost:8080/"
        },
        "id": "4ec9950b",
        "outputId": "dfa74bf8-9916-4575-f688-cb1172b71ffd"
      },
      "outputs": [
        {
          "output_type": "execute_result",
          "data": {
            "text/plain": [
              "['two', 'three', 4, 5]"
            ]
          },
          "metadata": {},
          "execution_count": 9
        }
      ],
      "source": [
        "# Берём позицию 1 и всё что после нее\n",
        "my_list[1:]"
      ]
    },
    {
      "cell_type": "code",
      "execution_count": null,
      "id": "4fa75f83",
      "metadata": {
        "colab": {
          "base_uri": "https://localhost:8080/"
        },
        "id": "4fa75f83",
        "outputId": "64725f81-ea44-4ee3-a21b-de76b84305e1"
      },
      "outputs": [
        {
          "output_type": "execute_result",
          "data": {
            "text/plain": [
              "['one', 'two', 'three']"
            ]
          },
          "metadata": {},
          "execution_count": 10
        }
      ],
      "source": [
        "# Берём всё ДО позиции 3\n",
        "my_list[:3]"
      ]
    },
    {
      "cell_type": "markdown",
      "id": "055e5cb6",
      "metadata": {
        "id": "055e5cb6"
      },
      "source": [
        "Как и для строк, для списков можно использовать + для конкатенации списков."
      ]
    },
    {
      "cell_type": "code",
      "execution_count": null,
      "id": "a861e389",
      "metadata": {
        "colab": {
          "base_uri": "https://localhost:8080/"
        },
        "id": "a861e389",
        "outputId": "51bc065e-0d0e-40fb-a7f8-172c01470fc2"
      },
      "outputs": [
        {
          "output_type": "execute_result",
          "data": {
            "text/plain": [
              "['one', 'two', 'three', 4, 5, 'new item']"
            ]
          },
          "metadata": {},
          "execution_count": 11
        }
      ],
      "source": [
        "my_list + ['new item']"
      ]
    },
    {
      "cell_type": "markdown",
      "id": "5dcf17b1",
      "metadata": {
        "id": "5dcf17b1"
      },
      "source": [
        "Обратите внимание: сам список my_list при этом не поменялся!"
      ]
    },
    {
      "cell_type": "code",
      "execution_count": null,
      "id": "a129182f",
      "metadata": {
        "colab": {
          "base_uri": "https://localhost:8080/"
        },
        "id": "a129182f",
        "outputId": "5b33332c-4664-4440-9197-79d388067579"
      },
      "outputs": [
        {
          "output_type": "execute_result",
          "data": {
            "text/plain": [
              "['one', 'two', 'three', 4, 5]"
            ]
          },
          "metadata": {},
          "execution_count": 12
        }
      ],
      "source": [
        "my_list"
      ]
    },
    {
      "cell_type": "markdown",
      "id": "a535b37e",
      "metadata": {
        "id": "a535b37e"
      },
      "source": [
        "Если нужно поменять изначальный список, то можно переопределить список."
      ]
    },
    {
      "cell_type": "code",
      "execution_count": null,
      "id": "96e31769",
      "metadata": {
        "id": "96e31769"
      },
      "outputs": [],
      "source": [
        "# Указываем новое значение\n",
        "my_list = my_list + ['add new item permanently']"
      ]
    },
    {
      "cell_type": "code",
      "execution_count": null,
      "id": "1ca93caf",
      "metadata": {
        "colab": {
          "base_uri": "https://localhost:8080/"
        },
        "id": "1ca93caf",
        "outputId": "90e498a9-8821-4ebb-9d5b-3a61dd619408"
      },
      "outputs": [
        {
          "output_type": "execute_result",
          "data": {
            "text/plain": [
              "['one', 'two', 'three', 4, 5, 'add new item permanently']"
            ]
          },
          "metadata": {},
          "execution_count": 14
        }
      ],
      "source": [
        "my_list"
      ]
    },
    {
      "cell_type": "markdown",
      "id": "6d37363e",
      "metadata": {
        "id": "6d37363e"
      },
      "source": [
        "Также можно использовать * для дублирования, как и для строк:"
      ]
    },
    {
      "cell_type": "code",
      "execution_count": null,
      "id": "ffe30789",
      "metadata": {
        "colab": {
          "base_uri": "https://localhost:8080/"
        },
        "id": "ffe30789",
        "outputId": "639b8483-673d-4a30-aa31-139c1c835463"
      },
      "outputs": [
        {
          "output_type": "execute_result",
          "data": {
            "text/plain": [
              "['one',\n",
              " 'two',\n",
              " 'three',\n",
              " 4,\n",
              " 5,\n",
              " 'add new item permanently',\n",
              " 'one',\n",
              " 'two',\n",
              " 'three',\n",
              " 4,\n",
              " 5,\n",
              " 'add new item permanently']"
            ]
          },
          "metadata": {},
          "execution_count": 15
        }
      ],
      "source": [
        "# Make the list double\n",
        "my_list * 2"
      ]
    },
    {
      "cell_type": "code",
      "execution_count": null,
      "id": "069d9dcf",
      "metadata": {
        "colab": {
          "base_uri": "https://localhost:8080/"
        },
        "id": "069d9dcf",
        "outputId": "f281e781-02f7-4461-e47d-5548dbc03c88"
      },
      "outputs": [
        {
          "output_type": "execute_result",
          "data": {
            "text/plain": [
              "['one', 'two', 'three', 4, 5, 'add new item permanently']"
            ]
          },
          "metadata": {},
          "execution_count": 16
        }
      ],
      "source": [
        "# Опять же, это не затрагивает изначальный список\n",
        "my_list"
      ]
    },
    {
      "cell_type": "markdown",
      "id": "71f9e0ec",
      "metadata": {
        "id": "71f9e0ec"
      },
      "source": [
        "## Основные методы для списков\n",
        "\n",
        "Если Вы знаете другие языки программирования, то можете провести параллели между массивами в других языках и списками в Python. Однако списки в Python более гибкие, чем массивы в других языках, по двум причинам: у них нет фиксированного размера (то есть нам не нужно указывать, насколько большим будет список), и они не ограничивают типы объектов (как мы видели выше).\n",
        "\n",
        "Давайте посмотрим некоторые методы, специфичные для списков:"
      ]
    },
    {
      "cell_type": "code",
      "execution_count": null,
      "id": "48db43bb",
      "metadata": {
        "id": "48db43bb"
      },
      "outputs": [],
      "source": [
        "# Создаем новый список\n",
        "list1 = [1,2,3]"
      ]
    },
    {
      "cell_type": "markdown",
      "id": "0eca3c02",
      "metadata": {
        "id": "0eca3c02"
      },
      "source": [
        "Метод **append** добавляет новый элемент в конец списка:"
      ]
    },
    {
      "cell_type": "code",
      "execution_count": null,
      "id": "4bd053e1",
      "metadata": {
        "id": "4bd053e1"
      },
      "outputs": [],
      "source": [
        "# Append\n",
        "list1.append('append me!')"
      ]
    },
    {
      "cell_type": "code",
      "execution_count": null,
      "id": "f8ea2f26",
      "metadata": {
        "colab": {
          "base_uri": "https://localhost:8080/"
        },
        "id": "f8ea2f26",
        "outputId": "d6db5fe5-638a-440a-d1a7-03d86090c87b"
      },
      "outputs": [
        {
          "output_type": "execute_result",
          "data": {
            "text/plain": [
              "[1, 2, 3, 'append me!']"
            ]
          },
          "metadata": {},
          "execution_count": 38
        }
      ],
      "source": [
        "# Проверка\n",
        "list1"
      ]
    },
    {
      "cell_type": "markdown",
      "id": "b7b8a82e",
      "metadata": {
        "id": "b7b8a82e"
      },
      "source": [
        "Метод **pop** \"вынимает\" элемент из списка. По умолчанию вынимается последний элемент, но Вы также можете указать позицию, с которой нужно вынуть элемент. Рассмотрим пример:"
      ]
    },
    {
      "cell_type": "code",
      "execution_count": null,
      "id": "5af84bbe",
      "metadata": {
        "colab": {
          "base_uri": "https://localhost:8080/"
        },
        "id": "5af84bbe",
        "outputId": "6ebac305-d5b9-47c5-8c17-61ae30146c98"
      },
      "outputs": [
        {
          "output_type": "execute_result",
          "data": {
            "text/plain": [
              "1"
            ]
          },
          "metadata": {},
          "execution_count": 39
        }
      ],
      "source": [
        "# Вынимаем элемент на позиции 0\n",
        "list1.pop(0)"
      ]
    },
    {
      "cell_type": "code",
      "execution_count": null,
      "id": "ef54bb6b",
      "metadata": {
        "colab": {
          "base_uri": "https://localhost:8080/"
        },
        "id": "ef54bb6b",
        "outputId": "d429db0c-073c-42a4-9e0f-ae506f989c74"
      },
      "outputs": [
        {
          "output_type": "execute_result",
          "data": {
            "text/plain": [
              "[2, 3, 'append me!']"
            ]
          },
          "metadata": {},
          "execution_count": 40
        }
      ],
      "source": [
        "# Проверка\n",
        "list1"
      ]
    },
    {
      "cell_type": "code",
      "execution_count": null,
      "id": "b3341ac1",
      "metadata": {
        "id": "b3341ac1"
      },
      "outputs": [],
      "source": [
        "# Сохраняем вынимаемый элемент в отдельной переменной.\n",
        "# Помните, по умолчанию вынимаем последний элемент в списке (индекс -1)\n",
        "popped_item = list1.pop()"
      ]
    },
    {
      "cell_type": "code",
      "execution_count": null,
      "id": "eb91a64b",
      "metadata": {
        "colab": {
          "base_uri": "https://localhost:8080/"
        },
        "id": "eb91a64b",
        "outputId": "a0530710-b699-49f6-cb18-51c5d8c0eca5"
      },
      "outputs": [
        {
          "output_type": "execute_result",
          "data": {
            "text/plain": [
              "3"
            ]
          },
          "metadata": {},
          "execution_count": 43
        }
      ],
      "source": [
        "popped_item"
      ]
    },
    {
      "cell_type": "code",
      "execution_count": null,
      "id": "263cc06d",
      "metadata": {
        "colab": {
          "base_uri": "https://localhost:8080/"
        },
        "id": "263cc06d",
        "outputId": "4c6235fa-3e68-41f6-943f-814bdbbd8b54"
      },
      "outputs": [
        {
          "output_type": "execute_result",
          "data": {
            "text/plain": [
              "[2]"
            ]
          },
          "metadata": {},
          "execution_count": 44
        }
      ],
      "source": [
        "# Проверка\n",
        "list1"
      ]
    },
    {
      "cell_type": "markdown",
      "id": "ce78c1aa",
      "metadata": {
        "id": "ce78c1aa"
      },
      "source": [
        "Также следует сказать, что обращение по несуществующему номеру индекса выдаст ошибку, если такого элемента нет. Например:"
      ]
    },
    {
      "cell_type": "code",
      "execution_count": null,
      "id": "bcabca77",
      "metadata": {
        "colab": {
          "base_uri": "https://localhost:8080/",
          "height": 139
        },
        "id": "bcabca77",
        "outputId": "51e987df-835b-44f9-eea8-20e86e57b376"
      },
      "outputs": [
        {
          "output_type": "error",
          "ename": "IndexError",
          "evalue": "list index out of range",
          "traceback": [
            "\u001b[0;31m---------------------------------------------------------------------------\u001b[0m",
            "\u001b[0;31mIndexError\u001b[0m                                Traceback (most recent call last)",
            "\u001b[0;32m<ipython-input-46-af6d2015fa1f>\u001b[0m in \u001b[0;36m<cell line: 0>\u001b[0;34m()\u001b[0m\n\u001b[0;32m----> 1\u001b[0;31m \u001b[0mlist1\u001b[0m\u001b[0;34m[\u001b[0m\u001b[0;36m100\u001b[0m\u001b[0;34m]\u001b[0m\u001b[0;34m\u001b[0m\u001b[0;34m\u001b[0m\u001b[0m\n\u001b[0m",
            "\u001b[0;31mIndexError\u001b[0m: list index out of range"
          ]
        }
      ],
      "source": [
        "list1[100]"
      ]
    },
    {
      "cell_type": "markdown",
      "id": "dd21a2b5",
      "metadata": {
        "id": "dd21a2b5"
      },
      "source": [
        "Мы также можем использовать методы **sort** и **reverse** для сортировки списков:"
      ]
    },
    {
      "cell_type": "code",
      "execution_count": null,
      "id": "5acdf274",
      "metadata": {
        "id": "5acdf274"
      },
      "outputs": [],
      "source": [
        "new_list = ['a','e','x','b','c']"
      ]
    },
    {
      "cell_type": "code",
      "execution_count": null,
      "id": "c40988ba",
      "metadata": {
        "colab": {
          "base_uri": "https://localhost:8080/"
        },
        "id": "c40988ba",
        "outputId": "253b551e-88fd-4dcb-bbd2-1392a052603e"
      },
      "outputs": [
        {
          "output_type": "execute_result",
          "data": {
            "text/plain": [
              "['a', 'b', 'c', 'e', 'x']"
            ]
          },
          "metadata": {},
          "execution_count": 119
        }
      ],
      "source": [
        "# проверка\n",
        "new_list"
      ]
    },
    {
      "cell_type": "code",
      "execution_count": null,
      "id": "2b24d3b8",
      "metadata": {
        "id": "2b24d3b8",
        "colab": {
          "base_uri": "https://localhost:8080/",
          "height": 156
        },
        "outputId": "fecb2d9c-40fb-4104-cfe0-2f0755d7d8a1"
      },
      "outputs": [
        {
          "output_type": "error",
          "ename": "NameError",
          "evalue": "name 'new_list' is not defined",
          "traceback": [
            "\u001b[0;31m---------------------------------------------------------------------------\u001b[0m",
            "\u001b[0;31mNameError\u001b[0m                                 Traceback (most recent call last)",
            "\u001b[0;32m<ipython-input-1-54413979dbec>\u001b[0m in \u001b[0;36m<cell line: 0>\u001b[0;34m()\u001b[0m\n\u001b[1;32m      1\u001b[0m \u001b[0;31m# Используем reverse для обратной сортировки (изменения сохраняются в списке!)\u001b[0m\u001b[0;34m\u001b[0m\u001b[0;34m\u001b[0m\u001b[0m\n\u001b[0;32m----> 2\u001b[0;31m \u001b[0mnew_list\u001b[0m\u001b[0;34m.\u001b[0m\u001b[0mreverse\u001b[0m\u001b[0;34m(\u001b[0m\u001b[0;34m)\u001b[0m\u001b[0;34m\u001b[0m\u001b[0;34m\u001b[0m\u001b[0m\n\u001b[0m",
            "\u001b[0;31mNameError\u001b[0m: name 'new_list' is not defined"
          ]
        }
      ],
      "source": [
        "# Используем reverse для обратной сортировки (изменения сохраняются в списке!)\n",
        "new_list.reverse()"
      ]
    },
    {
      "cell_type": "code",
      "execution_count": null,
      "id": "57ba6fc1",
      "metadata": {
        "colab": {
          "base_uri": "https://localhost:8080/"
        },
        "id": "57ba6fc1",
        "outputId": "af45cb68-77d8-4de8-c079-6cef0f61a2e8"
      },
      "outputs": [
        {
          "output_type": "execute_result",
          "data": {
            "text/plain": [
              "['c', 'b', 'x', 'e', 'a']"
            ]
          },
          "metadata": {},
          "execution_count": 50
        }
      ],
      "source": [
        "new_list"
      ]
    },
    {
      "cell_type": "code",
      "execution_count": null,
      "id": "836b220a",
      "metadata": {
        "id": "836b220a"
      },
      "outputs": [],
      "source": [
        "# Используем sort для сортировки списка (в этом случае по алфавиту, а для чисел было бы по возрастанию)\n",
        "new_list.sort()"
      ]
    },
    {
      "cell_type": "code",
      "execution_count": null,
      "id": "c9c801fb",
      "metadata": {
        "colab": {
          "base_uri": "https://localhost:8080/"
        },
        "id": "c9c801fb",
        "outputId": "a98f8f62-ba17-418d-e446-06d2702e3ee1"
      },
      "outputs": [
        {
          "output_type": "execute_result",
          "data": {
            "text/plain": [
              "['a', 'b', 'c', 'e', 'x']"
            ]
          },
          "metadata": {},
          "execution_count": 52
        }
      ],
      "source": [
        "new_list"
      ]
    },
    {
      "cell_type": "markdown",
      "id": "1c208f9a",
      "metadata": {
        "id": "1c208f9a"
      },
      "source": [
        "## Вложенные списки\n",
        "Прекрасная особенность структур данных в Python состоит в том, что они могут быть вложенными (*nested*). Это значит, что мы можем создавать структуры данных внутри структур данных. Например: список внутри списка.\n",
        "\n",
        "Давайте посмотрим, как это работает!"
      ]
    },
    {
      "cell_type": "code",
      "execution_count": null,
      "id": "1aaee8e4",
      "metadata": {
        "id": "1aaee8e4"
      },
      "outputs": [],
      "source": [
        "# Создадим три списка\n",
        "lst_1=[1,2,3]\n",
        "lst_2=[4,5,6]\n",
        "lst_3=[7,8,9]\n",
        "\n",
        "# Создадим список списков, получаем матрицу\n",
        "matrix = [lst_1,lst_2,lst_3]"
      ]
    },
    {
      "cell_type": "code",
      "execution_count": null,
      "id": "e051d871",
      "metadata": {
        "colab": {
          "base_uri": "https://localhost:8080/"
        },
        "id": "e051d871",
        "outputId": "ae847063-60aa-46bf-f43d-255971e8c107"
      },
      "outputs": [
        {
          "output_type": "execute_result",
          "data": {
            "text/plain": [
              "[[1, 2, 3], [4, 5, 6], [7, 8, 9]]"
            ]
          },
          "metadata": {},
          "execution_count": 33
        }
      ],
      "source": [
        "# Проверка\n",
        "matrix"
      ]
    },
    {
      "cell_type": "code",
      "source": [],
      "metadata": {
        "id": "8cHMRptPwMJn"
      },
      "id": "8cHMRptPwMJn",
      "execution_count": null,
      "outputs": []
    },
    {
      "cell_type": "markdown",
      "id": "3c9cf9bb",
      "metadata": {
        "id": "3c9cf9bb"
      },
      "source": [
        "Мы можем использовать индексы, чтобы получить элементы - но теперь у нас два уровня индексирования. Сначала элементы в списке matrix, а затем элементы внутри выбранного списка!"
      ]
    },
    {
      "cell_type": "code",
      "execution_count": null,
      "id": "9607862d",
      "metadata": {
        "colab": {
          "base_uri": "https://localhost:8080/"
        },
        "id": "9607862d",
        "outputId": "95e98594-41ba-4df2-8e69-7d5fcf563de6"
      },
      "outputs": [
        {
          "output_type": "execute_result",
          "data": {
            "text/plain": [
              "[1, 2, 3]"
            ]
          },
          "metadata": {},
          "execution_count": 34
        }
      ],
      "source": [
        "# Берем первый элемент в объекте matrix\n",
        "matrix[0]"
      ]
    },
    {
      "cell_type": "code",
      "execution_count": null,
      "id": "89c06756",
      "metadata": {
        "scrolled": false,
        "colab": {
          "base_uri": "https://localhost:8080/"
        },
        "id": "89c06756",
        "outputId": "b298f8fc-196d-4b43-e974-097044f46b0a"
      },
      "outputs": [
        {
          "output_type": "execute_result",
          "data": {
            "text/plain": [
              "1"
            ]
          },
          "metadata": {},
          "execution_count": 35
        }
      ],
      "source": [
        "# Берем первый элемент внутри первого элемента в объекте matrix\n",
        "matrix[0][0]"
      ]
    },
    {
      "cell_type": "markdown",
      "id": "6a549728",
      "metadata": {
        "id": "6a549728"
      },
      "source": [
        "# Генераторы списков (List Comprehensions)\n",
        "В Python есть возможность создавать списки с помощью генераторов списков (List Comprehensions). Этот термин трудно перевести на русский язык, иногда его ещё переводят как \"абстракция списков\" или \"списковое включение\". Генераторы списков позволяют быстро создавать списки. Чтобы понять их, нам нужно понять работу циклов for. Не волнуйтесь, если этот раздел пока будет выглядеть не вполне понятно - просто пропустите его, мы вернемся к этой теме позже.\n",
        "\n",
        "Но если Вы хотите знать уже сейчас. то вот пример:"
      ]
    },
    {
      "cell_type": "code",
      "execution_count": null,
      "id": "c961f25d",
      "metadata": {
        "id": "c961f25d"
      },
      "outputs": [],
      "source": [
        "# Создаем список с помощью цикла for внутри []\n",
        "first_col = [row[0] for row in matrix]"
      ]
    },
    {
      "cell_type": "code",
      "execution_count": null,
      "id": "9f41735e",
      "metadata": {
        "colab": {
          "base_uri": "https://localhost:8080/"
        },
        "id": "9f41735e",
        "outputId": "392a3420-e950-4dbc-8977-fba7d17aa0fe"
      },
      "outputs": [
        {
          "output_type": "execute_result",
          "data": {
            "text/plain": [
              "[1, 4, 7]"
            ]
          },
          "metadata": {},
          "execution_count": 58
        }
      ],
      "source": [
        "first_col"
      ]
    },
    {
      "cell_type": "markdown",
      "id": "3e09d561",
      "metadata": {
        "collapsed": true,
        "id": "3e09d561"
      },
      "source": [
        "## Пример 1"
      ]
    },
    {
      "cell_type": "code",
      "execution_count": null,
      "id": "b283c0da",
      "metadata": {
        "collapsed": true,
        "id": "b283c0da"
      },
      "outputs": [],
      "source": [
        "# Получить все буквы в строке\n",
        "lst = [x for x in 'word']"
      ]
    },
    {
      "cell_type": "code",
      "execution_count": null,
      "id": "915af7db",
      "metadata": {
        "colab": {
          "base_uri": "https://localhost:8080/",
          "height": 156
        },
        "id": "915af7db",
        "outputId": "2692f743-a6b0-41b8-f37d-847ed116d5bc"
      },
      "outputs": [
        {
          "output_type": "error",
          "ename": "NameError",
          "evalue": "name 'lst' is not defined",
          "traceback": [
            "\u001b[0;31m---------------------------------------------------------------------------\u001b[0m",
            "\u001b[0;31mNameError\u001b[0m                                 Traceback (most recent call last)",
            "\u001b[0;32m<ipython-input-2-a6f1e9ccbf30>\u001b[0m in \u001b[0;36m<cell line: 0>\u001b[0;34m()\u001b[0m\n\u001b[1;32m      1\u001b[0m \u001b[0;31m# Проверка\u001b[0m\u001b[0;34m\u001b[0m\u001b[0;34m\u001b[0m\u001b[0m\n\u001b[0;32m----> 2\u001b[0;31m \u001b[0mlst\u001b[0m\u001b[0;34m\u001b[0m\u001b[0;34m\u001b[0m\u001b[0m\n\u001b[0m",
            "\u001b[0;31mNameError\u001b[0m: name 'lst' is not defined"
          ]
        }
      ],
      "source": [
        "# Проверка\n",
        "lst"
      ]
    },
    {
      "cell_type": "markdown",
      "id": "0b46e369",
      "metadata": {
        "id": "0b46e369"
      },
      "source": [
        "Это основная идея генератора списков. Если Вы знакомы с математической нотацией, то этот формат выглядит похоже, например: x^2 : x in { 0,1,2...10 }\n",
        "\n",
        "Рассмотрим ещё несколько примеров для генератора списков в Python:\n",
        "## Пример 2"
      ]
    },
    {
      "cell_type": "code",
      "execution_count": null,
      "id": "f97c1a61",
      "metadata": {
        "collapsed": true,
        "id": "f97c1a61"
      },
      "outputs": [],
      "source": [
        "# Взять диапазон чисел, возвести их в квадрат, и вернуть в виде списка\n",
        "lst = [x**2 for x in range(0,11)]"
      ]
    },
    {
      "cell_type": "code",
      "execution_count": null,
      "id": "df4b1411",
      "metadata": {
        "colab": {
          "base_uri": "https://localhost:8080/"
        },
        "id": "df4b1411",
        "outputId": "a7139bba-ea98-4b42-939b-be8d75f42f0e"
      },
      "outputs": [
        {
          "output_type": "execute_result",
          "data": {
            "text/plain": [
              "[0, 1, 4, 9, 16, 25, 36, 49, 64, 81, 100]"
            ]
          },
          "metadata": {},
          "execution_count": 62
        }
      ],
      "source": [
        "lst"
      ]
    },
    {
      "cell_type": "markdown",
      "id": "d31356d0",
      "metadata": {
        "id": "d31356d0"
      },
      "source": [
        "## Пример 3\n",
        "Посмотрим как можно добавить оператор <code>if</code>:"
      ]
    },
    {
      "cell_type": "code",
      "execution_count": null,
      "id": "77c19e0a",
      "metadata": {
        "collapsed": true,
        "id": "77c19e0a"
      },
      "outputs": [],
      "source": [
        "# Взять чётные числа из диапазона\n",
        "lst = [x for x in range(11) if x % 2 == 0]"
      ]
    },
    {
      "cell_type": "code",
      "execution_count": null,
      "id": "365829f0",
      "metadata": {
        "colab": {
          "base_uri": "https://localhost:8080/"
        },
        "id": "365829f0",
        "outputId": "52a9ef8d-f0dc-494e-f90d-97db439d9ff4"
      },
      "outputs": [
        {
          "output_type": "execute_result",
          "data": {
            "text/plain": [
              "[0, 2, 4, 6, 8, 10]"
            ]
          },
          "metadata": {},
          "execution_count": 4
        }
      ],
      "source": [
        "lst"
      ]
    },
    {
      "cell_type": "markdown",
      "id": "1423ac0d",
      "metadata": {
        "id": "1423ac0d"
      },
      "source": [
        "## Пример 4\n",
        "Мы также можем выполнить более сложную арифметику:"
      ]
    },
    {
      "cell_type": "code",
      "execution_count": null,
      "id": "aa236333",
      "metadata": {
        "colab": {
          "base_uri": "https://localhost:8080/"
        },
        "id": "aa236333",
        "outputId": "30413226-8757-464a-c684-efcac681ec8e"
      },
      "outputs": [
        {
          "output_type": "execute_result",
          "data": {
            "text/plain": [
              "[32.0, 50.0, 68.18, 94.1]"
            ]
          },
          "metadata": {},
          "execution_count": 65
        }
      ],
      "source": [
        "# Сконвертировать градусы Цельсия в градусы Фаренгейта\n",
        "celsius = [0,10,20.1,34.5]\n",
        "\n",
        "fahrenheit = [((9/5)*temp + 32) for temp in celsius ]\n",
        "\n",
        "fahrenheit"
      ]
    },
    {
      "cell_type": "markdown",
      "id": "be7c4afd",
      "metadata": {
        "id": "be7c4afd"
      },
      "source": [
        "## Пример 5\n",
        "Мы также можем создавать вложенные генераторы списков, например:"
      ]
    },
    {
      "cell_type": "code",
      "execution_count": null,
      "id": "ffa7d41c",
      "metadata": {
        "colab": {
          "base_uri": "https://localhost:8080/"
        },
        "id": "ffa7d41c",
        "outputId": "310f39f8-feb3-4b1b-ba6b-3170b27cd605"
      },
      "outputs": [
        {
          "output_type": "execute_result",
          "data": {
            "text/plain": [
              "[0, 1, 16, 81, 256, 625, 1296, 2401, 4096, 6561, 10000]"
            ]
          },
          "metadata": {},
          "execution_count": 66
        }
      ],
      "source": [
        "lst = [ x**2 for x in [x**2 for x in range(11)]]\n",
        "lst"
      ]
    },
    {
      "cell_type": "markdown",
      "id": "316a16bd",
      "metadata": {
        "id": "316a16bd"
      },
      "source": [
        "## Задание 1"
      ]
    },
    {
      "cell_type": "markdown",
      "id": "e753120c",
      "metadata": {
        "id": "e753120c"
      },
      "source": [
        "Есть строка 'hello'. Введите команду, которая выведет букву 'e'. Введите Ваш код в ячейке ниже:"
      ]
    },
    {
      "cell_type": "code",
      "execution_count": null,
      "id": "0f7b6387",
      "metadata": {
        "colab": {
          "base_uri": "https://localhost:8080/"
        },
        "id": "0f7b6387",
        "outputId": "d1836478-b538-4dfb-80a7-cc4395045bd4"
      },
      "outputs": [
        {
          "output_type": "stream",
          "name": "stdout",
          "text": [
            "e\n"
          ]
        }
      ],
      "source": [
        "s = 'hello'\n",
        "# Выведите 'e' с помощью индексирования\n",
        "print(s[1])"
      ]
    },
    {
      "cell_type": "markdown",
      "id": "c11fbdc2",
      "metadata": {
        "id": "c11fbdc2"
      },
      "source": [
        "Выведите строку 'hello' в обратном порядке"
      ]
    },
    {
      "cell_type": "code",
      "execution_count": 63,
      "id": "858fb118",
      "metadata": {
        "id": "858fb118",
        "colab": {
          "base_uri": "https://localhost:8080/"
        },
        "outputId": "b1fe34b5-dd49-454c-8644-f04a29943c3f"
      },
      "outputs": [
        {
          "output_type": "stream",
          "name": "stdout",
          "text": [
            "olleh\n"
          ]
        }
      ],
      "source": [
        "s_1 = 'hello'\n",
        "s_2 = [a_1 for a_1 in s_1]\n",
        "\n",
        "# Выведите строку в обратном порядке\n",
        "s_2.reverse()\n",
        "reverse_line = \"\";\n",
        "\n",
        "for symbol in s_2:\n",
        "  reverse_line = reverse_line + symbol\n",
        "\n",
        "print(reverse_line)\n"
      ]
    },
    {
      "cell_type": "markdown",
      "id": "472ec8f4",
      "metadata": {
        "id": "472ec8f4"
      },
      "source": [
        "Используя строку hello, укажите два способа, как можно получить букву 'o' с помощью индексирования."
      ]
    },
    {
      "cell_type": "code",
      "execution_count": null,
      "id": "18afe82f",
      "metadata": {
        "id": "18afe82f",
        "colab": {
          "base_uri": "https://localhost:8080/"
        },
        "outputId": "7dacecd4-1f78-43a2-ab5d-955825d2c76d"
      },
      "outputs": [
        {
          "output_type": "stream",
          "name": "stdout",
          "text": [
            "o\n"
          ]
        }
      ],
      "source": [
        "s ='hello'\n",
        "# Выведите букву 'o'\n",
        "# Способ 1:\n",
        "print(s[4])"
      ]
    },
    {
      "cell_type": "code",
      "execution_count": null,
      "id": "6385792a",
      "metadata": {
        "id": "6385792a",
        "colab": {
          "base_uri": "https://localhost:8080/"
        },
        "outputId": "bfa1194b-c35c-4742-ff2d-d74466f78670"
      },
      "outputs": [
        {
          "output_type": "stream",
          "name": "stdout",
          "text": [
            "o\n"
          ]
        }
      ],
      "source": [
        "# Способ 2:\n",
        "print(s[4:])"
      ]
    },
    {
      "cell_type": "markdown",
      "id": "e7fee250",
      "metadata": {
        "id": "e7fee250"
      },
      "source": [
        "## Задание 2"
      ]
    },
    {
      "cell_type": "markdown",
      "id": "a4c21283",
      "metadata": {
        "id": "a4c21283"
      },
      "source": [
        "Создайте список [0,0,0] двумя разными способами."
      ]
    },
    {
      "cell_type": "code",
      "execution_count": null,
      "id": "f24113d3",
      "metadata": {
        "id": "f24113d3",
        "colab": {
          "base_uri": "https://localhost:8080/"
        },
        "outputId": "a3bc66ae-7b2a-42db-976b-620e7dd307f1"
      },
      "outputs": [
        {
          "output_type": "stream",
          "name": "stdout",
          "text": [
            "[0, 0, 0]\n"
          ]
        }
      ],
      "source": [
        "# Способ 1:\n",
        "list1=[0,0,0]\n",
        "print(list1)"
      ]
    },
    {
      "cell_type": "code",
      "execution_count": null,
      "id": "18a6719b",
      "metadata": {
        "id": "18a6719b",
        "colab": {
          "base_uri": "https://localhost:8080/"
        },
        "outputId": "8dda8273-15f5-488e-b07b-d56a7c26f58e"
      },
      "outputs": [
        {
          "output_type": "stream",
          "name": "stdout",
          "text": [
            "[0, 0, 0]\n"
          ]
        }
      ],
      "source": [
        "# Способ 2:\n",
        "mylst=list()\n",
        "mylst.append(0)\n",
        "mylst.append(0)\n",
        "mylst.append(0)\n",
        "print(mylst)"
      ]
    },
    {
      "cell_type": "markdown",
      "id": "3be937c8",
      "metadata": {
        "id": "3be937c8"
      },
      "source": [
        "Переопределите 'hello' в этом сложенном списке, чтобы вместо этого сказать 'goodbye':"
      ]
    },
    {
      "cell_type": "code",
      "execution_count": null,
      "id": "98cbbfa4",
      "metadata": {
        "id": "98cbbfa4",
        "colab": {
          "base_uri": "https://localhost:8080/"
        },
        "outputId": "f4b604aa-334f-4300-a303-5acd5a7d3e37"
      },
      "outputs": [
        {
          "output_type": "stream",
          "name": "stdout",
          "text": [
            "[1, 2, [3, 4, 'goodbye']]\n"
          ]
        }
      ],
      "source": [
        "list3 = [1,2,[3,4,'hello']]\n",
        "list3[2][2]=\"goodbye\"\n",
        "print(list3)\n"
      ]
    },
    {
      "cell_type": "markdown",
      "id": "e7996674",
      "metadata": {
        "id": "e7996674"
      },
      "source": [
        "Отсортируйте список ниже:"
      ]
    },
    {
      "cell_type": "code",
      "execution_count": 62,
      "id": "a8c1011c",
      "metadata": {
        "id": "a8c1011c",
        "colab": {
          "base_uri": "https://localhost:8080/"
        },
        "outputId": "d587ab01-045f-43f4-d4cf-7002403db804"
      },
      "outputs": [
        {
          "output_type": "stream",
          "name": "stdout",
          "text": [
            "[1, 3, 4, 5, 6]\n"
          ]
        }
      ],
      "source": [
        "list4 = [5,3,4,6,1]\n",
        "list4.sort()\n",
        "print(list4)\n"
      ]
    }
  ],
  "metadata": {
    "kernelspec": {
      "display_name": "Python 3 (ipykernel)",
      "language": "python",
      "name": "python3"
    },
    "language_info": {
      "codemirror_mode": {
        "name": "ipython",
        "version": 3
      },
      "file_extension": ".py",
      "mimetype": "text/x-python",
      "name": "python",
      "nbconvert_exporter": "python",
      "pygments_lexer": "ipython3",
      "version": "3.9.13"
    },
    "colab": {
      "provenance": []
    }
  },
  "nbformat": 4,
  "nbformat_minor": 5
}